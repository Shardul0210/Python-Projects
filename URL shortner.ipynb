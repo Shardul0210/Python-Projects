{
 "cells": [
  {
   "cell_type": "markdown",
   "id": "2cd332ff",
   "metadata": {},
   "source": [
    "# URL shortner"
   ]
  },
  {
   "cell_type": "markdown",
   "id": "a06be093",
   "metadata": {},
   "source": [
    "# Version 1"
   ]
  },
  {
   "cell_type": "code",
   "execution_count": 1,
   "id": "885576e1",
   "metadata": {},
   "outputs": [],
   "source": [
    "import random\n",
    "import string"
   ]
  },
  {
   "cell_type": "code",
   "execution_count": 2,
   "id": "af053de6",
   "metadata": {},
   "outputs": [],
   "source": [
    "#data base key = short URL, value = Long URL\n",
    "DB={}\n"
   ]
  },
  {
   "cell_type": "code",
   "execution_count": 3,
   "id": "18a399e0",
   "metadata": {},
   "outputs": [],
   "source": [
    "def getShortUrl(longURL):\n",
    "    \"\"\"\n",
    "    Given a long URL returns a short url\n",
    "    \"\"\"\n",
    "    chars=string.ascii_lowercase\n",
    "    if longURL not in DB.keys():\n",
    "        \n",
    "    #Random string generation for long url\n",
    "        l=random.randint(4,6)\n",
    "        shortURL=''.join([random.choice(chars) for i in range(4)])\n",
    "    \n",
    "        DB[longURL]=shortURL\n",
    "        result= \"cm.in/\" + shortURL  #\"cm.in/\" domain name\n",
    "    else:\n",
    "        result= \"cm.in/\" +DB[longURL]\n",
    "    return result\n",
    "   "
   ]
  },
  {
   "cell_type": "code",
   "execution_count": 4,
   "id": "4dfe45c5",
   "metadata": {},
   "outputs": [],
   "source": [
    "URL=\"https://www.udemy.com/course/python-programming-beginners-bootcamp/learn/lecture/27920256#overview\""
   ]
  },
  {
   "cell_type": "code",
   "execution_count": 5,
   "id": "a696f8e7",
   "metadata": {},
   "outputs": [
    {
     "data": {
      "text/plain": [
       "'cm.in/xgtj'"
      ]
     },
     "execution_count": 5,
     "metadata": {},
     "output_type": "execute_result"
    }
   ],
   "source": [
    "getShortUrl(URL)"
   ]
  },
  {
   "cell_type": "code",
   "execution_count": 6,
   "id": "a3b9a730",
   "metadata": {},
   "outputs": [
    {
     "data": {
      "text/plain": [
       "'cm.in/xgtj'"
      ]
     },
     "execution_count": 6,
     "metadata": {},
     "output_type": "execute_result"
    }
   ],
   "source": [
    "getShortUrl(URL)"
   ]
  },
  {
   "cell_type": "code",
   "execution_count": 7,
   "id": "9ad2f8de",
   "metadata": {},
   "outputs": [
    {
     "data": {
      "text/plain": [
       "'cm.in/vldq'"
      ]
     },
     "execution_count": 7,
     "metadata": {},
     "output_type": "execute_result"
    }
   ],
   "source": [
    "getShortUrl(\"https://www.udemy.com\")"
   ]
  },
  {
   "cell_type": "code",
   "execution_count": 8,
   "id": "2a888abf",
   "metadata": {},
   "outputs": [
    {
     "name": "stdout",
     "output_type": "stream",
     "text": [
      "{'https://www.udemy.com/course/python-programming-beginners-bootcamp/learn/lecture/27920256#overview': 'xgtj', 'https://www.udemy.com': 'vldq'}\n"
     ]
    }
   ],
   "source": [
    "print(DB)"
   ]
  },
  {
   "cell_type": "markdown",
   "id": "c7bc2391",
   "metadata": {},
   "source": [
    "# Get long Url when short Url is requested by user"
   ]
  },
  {
   "cell_type": "code",
   "execution_count": 9,
   "id": "c1230d30",
   "metadata": {},
   "outputs": [],
   "source": [
    "def getLongURL(shortURL):\n",
    "    \"\"\"\n",
    "    Given a short URL returns a long url\n",
    "    \"\"\"\n",
    "    #short Url https://www.cm.in.abcde ---> abcde\n",
    "    value=shortURL.split('/')[-1] # last characters after last '/'\n",
    "    val=list(DB.values())\n",
    "    key=list(DB.keys())\n",
    "    if value in DB.values():\n",
    "        n=val.index(value)\n",
    "        return key[n]\n",
    "    else:\n",
    "        return \"Short URL doesn't exist.\"\n",
    "    \n",
    "    "
   ]
  },
  {
   "cell_type": "code",
   "execution_count": 10,
   "id": "4ff05916",
   "metadata": {},
   "outputs": [
    {
     "data": {
      "text/plain": [
       "\"Short URL doesn't exist.\""
      ]
     },
     "execution_count": 10,
     "metadata": {},
     "output_type": "execute_result"
    }
   ],
   "source": [
    "getLongURL('cm.in/thih')"
   ]
  },
  {
   "cell_type": "code",
   "execution_count": 11,
   "id": "77069d27",
   "metadata": {},
   "outputs": [
    {
     "data": {
      "text/plain": [
       "\"Short URL doesn't exist.\""
      ]
     },
     "execution_count": 11,
     "metadata": {},
     "output_type": "execute_result"
    }
   ],
   "source": [
    "getLongURL('cm.in/gerj')"
   ]
  },
  {
   "cell_type": "markdown",
   "id": "6af72849",
   "metadata": {},
   "source": [
    "# Version -2\n",
    "Adding numbers to short url"
   ]
  },
  {
   "cell_type": "code",
   "execution_count": 12,
   "id": "78ee3713",
   "metadata": {},
   "outputs": [],
   "source": [
    "def getShortUrl2(longURL):\n",
    "    \"\"\"\n",
    "    Given a long URL returns a short url\n",
    "    \"\"\"\n",
    "    #Random string generation for long url\n",
    "    chars=string.ascii_lowercase+string.digits\n",
    "    if longURL not in DB.keys():\n",
    "        l=random.randint(4,6)\n",
    "        shortURL=''.join([random.choice(chars) for i in range(4)])\n",
    "    \n",
    "        DB[longURL]=shortURL\n",
    "        result= \"cm.in/\" + shortURL  #\"cm.in/\" domain name\n",
    "    else:\n",
    "        result= \"cm.in/\" +DB[longURL]\n",
    "    return result\n",
    "   "
   ]
  },
  {
   "cell_type": "code",
   "execution_count": 13,
   "id": "e7c23314",
   "metadata": {},
   "outputs": [
    {
     "data": {
      "text/plain": [
       "'cm.in/y5m0'"
      ]
     },
     "execution_count": 13,
     "metadata": {},
     "output_type": "execute_result"
    }
   ],
   "source": [
    "getShortUrl2(\"http://localhost:8888/notebooks\")"
   ]
  },
  {
   "cell_type": "code",
   "execution_count": 14,
   "id": "35483a8e",
   "metadata": {},
   "outputs": [
    {
     "data": {
      "text/plain": [
       "\"Short URL doesn't exist.\""
      ]
     },
     "execution_count": 14,
     "metadata": {},
     "output_type": "execute_result"
    }
   ],
   "source": [
    "getLongURL('cm.in/p7xz')"
   ]
  },
  {
   "cell_type": "code",
   "execution_count": 15,
   "id": "1ac49336",
   "metadata": {},
   "outputs": [
    {
     "data": {
      "text/plain": [
       "{'https://www.udemy.com/course/python-programming-beginners-bootcamp/learn/lecture/27920256#overview': 'xgtj',\n",
       " 'https://www.udemy.com': 'vldq',\n",
       " 'http://localhost:8888/notebooks': 'y5m0'}"
      ]
     },
     "execution_count": 15,
     "metadata": {},
     "output_type": "execute_result"
    }
   ],
   "source": [
    "DB"
   ]
  },
  {
   "cell_type": "markdown",
   "id": "57ad9a16",
   "metadata": {},
   "source": [
    "# Version-3\n",
    "Custom short Url"
   ]
  },
  {
   "cell_type": "code",
   "execution_count": 16,
   "id": "fcefce7a",
   "metadata": {},
   "outputs": [],
   "source": [
    "#Instead of random string give personalised short url"
   ]
  },
  {
   "cell_type": "code",
   "execution_count": 17,
   "id": "bab702d2",
   "metadata": {},
   "outputs": [],
   "source": [
    "def getShortUrl3(longURL,customURL=None):  # default customURL =None\n",
    "    if longURL in DB.keys():\n",
    "        print(\"Custom URL already exists :\")\n",
    "        return \" cm.in/\" +DB[longURL]\n",
    "    elif customURL == None:\n",
    "        \"\"\"\n",
    "        Given a long URL returns a short url\n",
    "        \"\"\"\n",
    "        #Random string generation for long url\n",
    "        chars=string.ascii_lowercase+string.digits\n",
    "        l=random.randint(4,6)\n",
    "        shortURL=''.join([random.choice(chars) for i in range(4)])\n",
    "    \n",
    "        DB[longURL]=shortURL\n",
    "        result= \"cm.in/\" + shortURL  #\"cm.in/\" domain name\n",
    "        \n",
    "            \n",
    "        return result\n",
    "    \n",
    "    else:\n",
    "        if customURL in DB.values():\n",
    "            return \"Custom URL already exists for another long URL\"\n",
    "        \n",
    "        else:\n",
    "            DB[longURL]=customURL\n",
    "            res=\"cm.in/\" + customURL\n",
    "            return res"
   ]
  },
  {
   "cell_type": "code",
   "execution_count": 18,
   "id": "0921fd58",
   "metadata": {},
   "outputs": [
    {
     "name": "stdout",
     "output_type": "stream",
     "text": [
      "Custom URL already exists :\n"
     ]
    },
    {
     "data": {
      "text/plain": [
       "' cm.in/y5m0'"
      ]
     },
     "execution_count": 18,
     "metadata": {},
     "output_type": "execute_result"
    }
   ],
   "source": [
    "getShortUrl3('http://localhost:8888/notebooks','localhost')"
   ]
  },
  {
   "cell_type": "code",
   "execution_count": 19,
   "id": "45d63742",
   "metadata": {},
   "outputs": [
    {
     "name": "stdout",
     "output_type": "stream",
     "text": [
      "Custom URL already exists :\n"
     ]
    },
    {
     "data": {
      "text/plain": [
       "' cm.in/vldq'"
      ]
     },
     "execution_count": 19,
     "metadata": {},
     "output_type": "execute_result"
    }
   ],
   "source": [
    "getShortUrl3('https://www.udemy.com','udemy')"
   ]
  },
  {
   "cell_type": "code",
   "execution_count": 20,
   "id": "dcad9c74",
   "metadata": {},
   "outputs": [
    {
     "data": {
      "text/plain": [
       "{'https://www.udemy.com/course/python-programming-beginners-bootcamp/learn/lecture/27920256#overview': 'xgtj',\n",
       " 'https://www.udemy.com': 'vldq',\n",
       " 'http://localhost:8888/notebooks': 'y5m0'}"
      ]
     },
     "execution_count": 20,
     "metadata": {},
     "output_type": "execute_result"
    }
   ],
   "source": [
    "DB"
   ]
  },
  {
   "cell_type": "code",
   "execution_count": 21,
   "id": "493bd8a0",
   "metadata": {},
   "outputs": [
    {
     "data": {
      "text/plain": [
       "'cm.in/pythonProgram'"
      ]
     },
     "execution_count": 21,
     "metadata": {},
     "output_type": "execute_result"
    }
   ],
   "source": [
    "getShortUrl3('https://www.udemy.com/course/python-programming','pythonProgram')"
   ]
  },
  {
   "cell_type": "code",
   "execution_count": 22,
   "id": "c4335759",
   "metadata": {},
   "outputs": [
    {
     "data": {
      "text/plain": [
       "{'https://www.udemy.com/course/python-programming-beginners-bootcamp/learn/lecture/27920256#overview': 'xgtj',\n",
       " 'https://www.udemy.com': 'vldq',\n",
       " 'http://localhost:8888/notebooks': 'y5m0',\n",
       " 'https://www.udemy.com/course/python-programming': 'pythonProgram'}"
      ]
     },
     "execution_count": 22,
     "metadata": {},
     "output_type": "execute_result"
    }
   ],
   "source": [
    "DB"
   ]
  },
  {
   "cell_type": "code",
   "execution_count": 23,
   "id": "2dfd4054",
   "metadata": {},
   "outputs": [
    {
     "name": "stdout",
     "output_type": "stream",
     "text": [
      "Custom URL already exists :\n"
     ]
    },
    {
     "data": {
      "text/plain": [
       "' cm.in/vldq'"
      ]
     },
     "execution_count": 23,
     "metadata": {},
     "output_type": "execute_result"
    }
   ],
   "source": [
    "getShortUrl3('https://www.udemy.com')"
   ]
  },
  {
   "cell_type": "code",
   "execution_count": 24,
   "id": "205f0a18",
   "metadata": {},
   "outputs": [
    {
     "data": {
      "text/plain": [
       "'Custom URL already exists for another long URL'"
      ]
     },
     "execution_count": 24,
     "metadata": {},
     "output_type": "execute_result"
    }
   ],
   "source": [
    "getShortUrl3('https://www.udemy/DataScience.com','pythonProgram')"
   ]
  },
  {
   "cell_type": "markdown",
   "id": "b6544ad1",
   "metadata": {},
   "source": [
    "# Upade Long and Short URL"
   ]
  },
  {
   "cell_type": "code",
   "execution_count": 25,
   "id": "dc7d1496",
   "metadata": {},
   "outputs": [
    {
     "data": {
      "text/plain": [
       "'cm.in/ide'"
      ]
     },
     "execution_count": 25,
     "metadata": {},
     "output_type": "execute_result"
    }
   ],
   "source": [
    "getShortUrl3('ide.codingminutes.com','ide')"
   ]
  },
  {
   "cell_type": "code",
   "execution_count": 26,
   "id": "6d34aa21",
   "metadata": {},
   "outputs": [
    {
     "data": {
      "text/plain": [
       "{'https://www.udemy.com/course/python-programming-beginners-bootcamp/learn/lecture/27920256#overview': 'xgtj',\n",
       " 'https://www.udemy.com': 'vldq',\n",
       " 'http://localhost:8888/notebooks': 'y5m0',\n",
       " 'https://www.udemy.com/course/python-programming': 'pythonProgram',\n",
       " 'ide.codingminutes.com': 'ide'}"
      ]
     },
     "execution_count": 26,
     "metadata": {},
     "output_type": "execute_result"
    }
   ],
   "source": [
    "DB"
   ]
  },
  {
   "cell_type": "code",
   "execution_count": 27,
   "id": "d3682a95",
   "metadata": {},
   "outputs": [],
   "source": [
    "def updateLongURL(shortURL,newLongURL):\n",
    "    \n",
    "    if shortURL in DB.values():\n",
    "        DB.update({newLongURL:shortURL})\n",
    "\n",
    "        return DB\n",
    "    else:\n",
    "        return \"Short URL doesnot exist\""
   ]
  },
  {
   "cell_type": "code",
   "execution_count": 28,
   "id": "9d5ce187",
   "metadata": {},
   "outputs": [
    {
     "data": {
      "text/plain": [
       "{'https://www.udemy.com/course/python-programming-beginners-bootcamp/learn/lecture/27920256#overview': 'xgtj',\n",
       " 'https://www.udemy.com': 'vldq',\n",
       " 'http://localhost:8888/notebooks': 'y5m0',\n",
       " 'https://www.udemy.com/course/python-programming': 'pythonProgram',\n",
       " 'ide.codingminutes.com': 'ide',\n",
       " 'ide.codingminuteszero.com': 'ide'}"
      ]
     },
     "execution_count": 28,
     "metadata": {},
     "output_type": "execute_result"
    }
   ],
   "source": [
    "updateLongURL('ide','ide.codingminuteszero.com')"
   ]
  },
  {
   "cell_type": "code",
   "execution_count": 29,
   "id": "bd1386bc",
   "metadata": {},
   "outputs": [
    {
     "data": {
      "text/plain": [
       "{'https://www.udemy.com/course/python-programming-beginners-bootcamp/learn/lecture/27920256#overview': 'xgtj',\n",
       " 'https://www.udemy.com': 'vldq',\n",
       " 'http://localhost:8888/notebooks': 'y5m0',\n",
       " 'https://www.udemy.com/course/python-programming': 'pythonProgram',\n",
       " 'ide.codingminutes.com': 'ide',\n",
       " 'ide.codingminuteszero.com': 'ide'}"
      ]
     },
     "execution_count": 29,
     "metadata": {},
     "output_type": "execute_result"
    }
   ],
   "source": [
    "updateLongURL('ide','ide.codingminuteszero.com')"
   ]
  },
  {
   "cell_type": "code",
   "execution_count": null,
   "id": "b630aee3",
   "metadata": {},
   "outputs": [],
   "source": []
  },
  {
   "cell_type": "code",
   "execution_count": 30,
   "id": "90396f99",
   "metadata": {},
   "outputs": [
    {
     "data": {
      "text/plain": [
       "'Short URL doesnot exist'"
      ]
     },
     "execution_count": 30,
     "metadata": {},
     "output_type": "execute_result"
    }
   ],
   "source": [
    "updateLongURL('gnqv','http://localhost:8888/notebooks1000')"
   ]
  },
  {
   "cell_type": "code",
   "execution_count": 31,
   "id": "56c1d260",
   "metadata": {},
   "outputs": [
    {
     "data": {
      "text/plain": [
       "{'https://www.udemy.com/course/python-programming-beginners-bootcamp/learn/lecture/27920256#overview': 'xgtj',\n",
       " 'https://www.udemy.com': 'vldq',\n",
       " 'http://localhost:8888/notebooks': 'y5m0',\n",
       " 'https://www.udemy.com/course/python-programming': 'pythonProgram',\n",
       " 'ide.codingminutes.com': 'ide',\n",
       " 'ide.codingminuteszero.com': 'ide'}"
      ]
     },
     "execution_count": 31,
     "metadata": {},
     "output_type": "execute_result"
    }
   ],
   "source": [
    "DB        "
   ]
  },
  {
   "cell_type": "code",
   "execution_count": null,
   "id": "464b22c8",
   "metadata": {},
   "outputs": [],
   "source": [
    "\n",
    "        "
   ]
  }
 ],
 "metadata": {
  "kernelspec": {
   "display_name": "Python 3 (ipykernel)",
   "language": "python",
   "name": "python3"
  },
  "language_info": {
   "codemirror_mode": {
    "name": "ipython",
    "version": 3
   },
   "file_extension": ".py",
   "mimetype": "text/x-python",
   "name": "python",
   "nbconvert_exporter": "python",
   "pygments_lexer": "ipython3",
   "version": "3.9.7"
  }
 },
 "nbformat": 4,
 "nbformat_minor": 5
}
