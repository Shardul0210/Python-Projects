{
 "cells": [
  {
   "cell_type": "markdown",
   "id": "71c522b6",
   "metadata": {},
   "source": [
    "# Text Generation"
   ]
  },
  {
   "cell_type": "markdown",
   "id": "af29b8ef",
   "metadata": {},
   "source": [
    "# Markov Chain"
   ]
  },
  {
   "cell_type": "raw",
   "id": "423dd338",
   "metadata": {},
   "source": [
    ".Probablistic Model for text/Natural Language Generation\n",
    ".Simple and effective way of generating new text\n",
    "    .Text\n",
    "    .Lyrics\n",
    "    .Story/Nove\n",
    "    .Code"
   ]
  },
  {
   "cell_type": "code",
   "execution_count": 1,
   "id": "3f77c13f",
   "metadata": {},
   "outputs": [],
   "source": [
    "#Random text\n",
    "\n",
    "#text=\"the man was ....they....then....the....the dog....then\"\n",
    "\n",
    "#X is the sequence of 'K=3' (window size) and Y is predicted character or K+1 character\n",
    "\n",
    "# X    Y     Freq  ie X=input or current state Y=output (predicted character)\n",
    "#the  \" \"    3\n",
    "#he_   m     1\n",
    "#e_m   a     1\n",
    "#_ma   n     2\n",
    "#.     .     .\n",
    "#.     .     .\n",
    "#.     .     .\n",
    "#.     .     .\n",
    "#the   y     1\n",
    "#.     .     .\n",
    "#.     .     .\n",
    "#.     .     .\n",
    "\n",
    "\n",
    "\n"
   ]
  },
  {
   "cell_type": "raw",
   "id": "39224b90",
   "metadata": {},
   "source": [
    "Transition table"
   ]
  },
  {
   "cell_type": "code",
   "execution_count": 2,
   "id": "5eb53623",
   "metadata": {},
   "outputs": [],
   "source": [
    "def generateTable(data,k=4):\n",
    "    T={}\n",
    "    for i in range(len(data)-k): #we need to stop k char before the end of string to get output\n",
    "        X=data[i:i+k]\n",
    "        y=data[i+k]\n",
    "        \n",
    "        if T.get(X) is None:\n",
    "            T[X]={}            #      X        y\n",
    "            T[X][y]=1          #eg {'powe':{'r':1,    }}\n",
    "        else:\n",
    "            if T[X].get(y) is None:\n",
    "                T[X][y]=1\n",
    "            else:\n",
    "                T[X][y]+=1\n",
    "    return T\n",
    "        \n",
    "            \n",
    "        \n",
    "    \n",
    "    "
   ]
  },
  {
   "cell_type": "code",
   "execution_count": 3,
   "id": "bebe24cb",
   "metadata": {},
   "outputs": [
    {
     "data": {
      "text/plain": [
       "{'hell': {'o': 2, 'i': 1, 'y': 1},\n",
       " 'ello': {' ': 2},\n",
       " 'llo ': {'h': 2},\n",
       " 'lo h': {'e': 2},\n",
       " 'o he': {'l': 2},\n",
       " ' hel': {'l': 3},\n",
       " 'elli': {' ': 1},\n",
       " 'lli ': {'h': 1},\n",
       " 'li h': {'e': 1},\n",
       " 'i he': {'l': 1}}"
      ]
     },
     "execution_count": 3,
     "metadata": {},
     "output_type": "execute_result"
    }
   ],
   "source": [
    "T=generateTable(\"hello hello helli helly\")\n",
    "T"
   ]
  },
  {
   "cell_type": "code",
   "execution_count": 4,
   "id": "12dd0838",
   "metadata": {},
   "outputs": [
    {
     "data": {
      "text/plain": [
       "{'the': {' ': 3, 'y': 1, 'n': 1, 'm': 1},\n",
       " 'he ': {'t': 3},\n",
       " 'e t': {'h': 3},\n",
       " ' th': {'e': 6},\n",
       " 'hey': {' ': 1},\n",
       " 'ey ': {'t': 1},\n",
       " 'y t': {'h': 1},\n",
       " 'hen': {' ': 1},\n",
       " 'en ': {'t': 1},\n",
       " 'n t': {'h': 1},\n",
       " 'hem': {' ': 1},\n",
       " 'em ': {'t': 1},\n",
       " 'm t': {'h': 1}}"
      ]
     },
     "execution_count": 4,
     "metadata": {},
     "output_type": "execute_result"
    }
   ],
   "source": [
    "generateTable(\"the they then them the the the\",k=3)"
   ]
  },
  {
   "cell_type": "code",
   "execution_count": 5,
   "id": "52a943da",
   "metadata": {},
   "outputs": [],
   "source": [
    "#convert freq to probability\n",
    "def convertFreqProb(T):\n",
    "    for kx in T.keys():\n",
    "        s=sum(T[kx].values())  # sum(T['hell'].values()) = 4\n",
    "        for k in T[kx].keys():\n",
    "            T[kx][k]=T[kx][k]/s\n",
    "            \n",
    "    return T\n",
    "    "
   ]
  },
  {
   "cell_type": "code",
   "execution_count": 6,
   "id": "f64531ef",
   "metadata": {},
   "outputs": [
    {
     "data": {
      "text/plain": [
       "{'hell': {'o': 0.5, 'i': 0.25, 'y': 0.25},\n",
       " 'ello': {' ': 1.0},\n",
       " 'llo ': {'h': 1.0},\n",
       " 'lo h': {'e': 1.0},\n",
       " 'o he': {'l': 1.0},\n",
       " ' hel': {'l': 1.0},\n",
       " 'elli': {' ': 1.0},\n",
       " 'lli ': {'h': 1.0},\n",
       " 'li h': {'e': 1.0},\n",
       " 'i he': {'l': 1.0}}"
      ]
     },
     "execution_count": 6,
     "metadata": {},
     "output_type": "execute_result"
    }
   ],
   "source": [
    "T=convertFreqProb(T)\n",
    "T"
   ]
  },
  {
   "cell_type": "markdown",
   "id": "06c0d2b2",
   "metadata": {},
   "source": [
    "# Train Markov Chain"
   ]
  },
  {
   "cell_type": "raw",
   "id": "156045c0",
   "metadata": {},
   "source": [
    "Read our data"
   ]
  },
  {
   "cell_type": "code",
   "execution_count": 7,
   "id": "24be9cc2",
   "metadata": {},
   "outputs": [],
   "source": [
    "def load_data(filepath):\n",
    "    with open(filepath) as f:\n",
    "        return f.read().lower()"
   ]
  },
  {
   "cell_type": "code",
   "execution_count": 8,
   "id": "9bd98bb1",
   "metadata": {},
   "outputs": [],
   "source": [
    "#print(load_data(r'C:\\Users\\user\\Desktop\\DOCS\\DS\\Relevel\\SQL\\sql queries.txt'))"
   ]
  },
  {
   "cell_type": "markdown",
   "id": "13901df0",
   "metadata": {},
   "source": [
    "# Train Markov Model"
   ]
  },
  {
   "cell_type": "code",
   "execution_count": 9,
   "id": "be5828ff",
   "metadata": {},
   "outputs": [],
   "source": [
    "def trainMarkovChain(text,k=4):\n",
    "    T=generateTable(text,k)\n",
    "    T=convertFreqProb(T)\n",
    "    \n",
    "    return T"
   ]
  },
  {
   "cell_type": "code",
   "execution_count": 10,
   "id": "437e557d",
   "metadata": {},
   "outputs": [],
   "source": [
    "txt=load_data(r'C:\\Users\\user\\Desktop\\DOCS\\DS\\Relevel\\SQL\\sql queries.txt')  # a collection of sql queries related to hacker rank\n",
    "model=trainMarkovChain(txt)\n",
    "#model"
   ]
  },
  {
   "cell_type": "markdown",
   "id": "d2d6052f",
   "metadata": {},
   "source": [
    "# Generate Text!"
   ]
  },
  {
   "cell_type": "raw",
   "id": "4104631b",
   "metadata": {},
   "source": [
    "# import random\n",
    "fruits=['apple','mango','banana']\n",
    "random.choice(fruits) # all 3 have equal probability of picking\n",
    "probabs=[0.7,0.2,0.1]\n",
    "random.choices(fruits,weights=probabs)# different probability\n"
   ]
  },
  {
   "cell_type": "code",
   "execution_count": 11,
   "id": "ffaf0e4a",
   "metadata": {},
   "outputs": [],
   "source": [
    "import random\n",
    "def sample_next(context,T,k):\n",
    "    context =context[-k:]  # to predict value after last char, last k chars are needed\n",
    "    if T.get(context) == None:\n",
    "        return \" \"\n",
    "    possible_chars=list(T.get(context).keys())  #T.get(context).keys() == T[context].keys()\n",
    "    possible_prob=list(T.get(context).values())\n",
    "    return random.choices(possible_chars,weights=possible_prob)[0]\n"
   ]
  },
  {
   "cell_type": "code",
   "execution_count": 12,
   "id": "eb860edb",
   "metadata": {},
   "outputs": [
    {
     "data": {
      "text/plain": [
       "'c'"
      ]
     },
     "execution_count": 12,
     "metadata": {},
     "output_type": "execute_result"
    }
   ],
   "source": [
    "sample_next(\"sele\",model,4)"
   ]
  },
  {
   "cell_type": "code",
   "execution_count": 13,
   "id": "967d5d81",
   "metadata": {},
   "outputs": [
    {
     "data": {
      "text/plain": [
       "'c'"
      ]
     },
     "execution_count": 13,
     "metadata": {},
     "output_type": "execute_result"
    }
   ],
   "source": [
    "sample_next(\"ect \",model,4)"
   ]
  },
  {
   "cell_type": "code",
   "execution_count": 14,
   "id": "c8ccb8ff",
   "metadata": {},
   "outputs": [],
   "source": [
    "def generateText(starting_sent,T,k=4,maxLen=100):\n",
    "    sentence =starting_sent\n",
    "    context=starting_sent[-k:]  #last k chars\n",
    "    \n",
    "    for i in range (maxLen):\n",
    "        next_pred=sample_next(context,T,k)\n",
    "        sentence += next_pred\n",
    "        context= sentence[-k:]\n",
    "    return sentence\n",
    "    \n"
   ]
  },
  {
   "cell_type": "code",
   "execution_count": 16,
   "id": "9a2c9a7f",
   "metadata": {},
   "outputs": [
    {
     "data": {
      "text/plain": [
       "'select distinct order_date\\n\\n\\ncapstone for all of the challenge_id order by name, and m.manager_code=c.man'"
      ]
     },
     "execution_count": 16,
     "metadata": {},
     "output_type": "execute_result"
    }
   ],
   "source": [
    "generateText(\"selec\",model)"
   ]
  },
  {
   "cell_type": "raw",
   "id": "8f7ce03e",
   "metadata": {},
   "source": [
    "Application = autocorrect,suggest,complete text while typing"
   ]
  },
  {
   "cell_type": "code",
   "execution_count": null,
   "id": "ac02e901",
   "metadata": {},
   "outputs": [],
   "source": []
  },
  {
   "cell_type": "code",
   "execution_count": null,
   "id": "4867e794",
   "metadata": {},
   "outputs": [],
   "source": []
  },
  {
   "cell_type": "code",
   "execution_count": null,
   "id": "6c07baee",
   "metadata": {},
   "outputs": [],
   "source": []
  },
  {
   "cell_type": "code",
   "execution_count": null,
   "id": "fde2630d",
   "metadata": {},
   "outputs": [],
   "source": []
  }
 ],
 "metadata": {
  "kernelspec": {
   "display_name": "Python 3 (ipykernel)",
   "language": "python",
   "name": "python3"
  },
  "language_info": {
   "codemirror_mode": {
    "name": "ipython",
    "version": 3
   },
   "file_extension": ".py",
   "mimetype": "text/x-python",
   "name": "python",
   "nbconvert_exporter": "python",
   "pygments_lexer": "ipython3",
   "version": "3.9.7"
  }
 },
 "nbformat": 4,
 "nbformat_minor": 5
}
